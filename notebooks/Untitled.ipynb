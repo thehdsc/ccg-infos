{
 "cells": [
  {
   "cell_type": "code",
   "execution_count": null,
   "id": "alpha-providence",
   "metadata": {},
   "outputs": [],
   "source": []
  }
 ],
 "metadata": {
  "kernelspec": {
   "display_name": "ccginfos",
   "language": "python",
   "name": "python3"
  }
 },
 "nbformat": 4,
 "nbformat_minor": 5
}
